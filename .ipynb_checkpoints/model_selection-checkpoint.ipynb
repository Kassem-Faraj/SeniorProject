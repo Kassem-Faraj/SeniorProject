{
 "cells": [
  {
   "cell_type": "code",
   "execution_count": 43,
   "id": "e0e79435",
   "metadata": {},
   "outputs": [],
   "source": [
    "import pandas as pd\n",
    "import numpy as np\n",
    "import matplotlib.pyplot as plt\n",
    "import seaborn as sns\n",
    "import time\n",
    "\n",
    "import warnings\n",
    "warnings.filterwarnings(\"ignore\")"
   ]
  },
  {
   "cell_type": "code",
   "execution_count": 81,
   "id": "5496a7b6",
   "metadata": {},
   "outputs": [],
   "source": [
    "import pickle"
   ]
  },
  {
   "cell_type": "code",
   "execution_count": 44,
   "id": "c55b4a89",
   "metadata": {},
   "outputs": [],
   "source": [
    "df = pd.read_csv(\"Crop_recommendation.csv\")"
   ]
  },
  {
   "cell_type": "code",
   "execution_count": 45,
   "id": "9095b0b8",
   "metadata": {},
   "outputs": [],
   "source": [
    "c=df.label.astype('category')\n",
    "targets = dict(enumerate(c.cat.categories))\n",
    "df['target']=c.cat.codes\n",
    "\n",
    "y=df.label #Target.\n",
    "X=df[['N','P','K','temperature','humidity','ph','rainfall']] #Fields used in ML algo."
   ]
  },
  {
   "cell_type": "markdown",
   "id": "87dec947",
   "metadata": {},
   "source": [
    "# Cross validation"
   ]
  },
  {
   "cell_type": "code",
   "execution_count": 46,
   "id": "818ed23e",
   "metadata": {},
   "outputs": [],
   "source": [
    "from sklearn.model_selection import train_test_split"
   ]
  },
  {
   "cell_type": "code",
   "execution_count": 47,
   "id": "3680617e",
   "metadata": {},
   "outputs": [],
   "source": [
    "X_train, X_test, y_train, y_test = train_test_split(X, y,random_state=1)"
   ]
  },
  {
   "cell_type": "markdown",
   "id": "bced18b3",
   "metadata": {},
   "source": [
    "## Pre processing"
   ]
  },
  {
   "cell_type": "code",
   "execution_count": 48,
   "id": "5b1037a5",
   "metadata": {},
   "outputs": [],
   "source": [
    "from sklearn import preprocessing\n",
    "min_max_scaler = preprocessing.MinMaxScaler()\n",
    "X_train_scaled = min_max_scaler.fit_transform(X_train)\n",
    "X_test_scaled = min_max_scaler.transform(X_test)"
   ]
  },
  {
   "cell_type": "markdown",
   "id": "f7bfe819",
   "metadata": {},
   "source": [
    "# Sample data"
   ]
  },
  {
   "cell_type": "code",
   "execution_count": 84,
   "id": "bfedd3f1",
   "metadata": {},
   "outputs": [
    {
     "name": "stdout",
     "output_type": "stream",
     "text": [
      "banana\n",
      "\n",
      "\n",
      "N                     91\n",
      "P                     94\n",
      "K                     46\n",
      "temperature    29.367924\n",
      "humidity       76.249001\n",
      "ph              6.149934\n",
      "rainfall       92.828409\n",
      "Name: 1000, dtype: object\n",
      "\n",
      "\n",
      "[[91 94 46 29.36792366 76.24900101 6.149934034 92.82840911]]\n",
      "[[0.65       0.63571429 0.205      0.58945067 0.72314731 0.4108418\n",
      "  0.26049019]]\n"
     ]
    }
   ],
   "source": [
    "# Select random values in the dataset to test predictions below\n",
    "data = df.iloc[1000]\n",
    "print(data[7])\n",
    "print('\\n')\n",
    "\n",
    "# Slice the features for prediction\n",
    "input_test = data[:-2]\n",
    "print(input_test)\n",
    "print('\\n')\n",
    "\n",
    "# Format the data to use in models\n",
    "prediction_data = input_test.to_numpy().reshape(1, -1)\n",
    "scaled_prediction_data = min_max_scaler.transform(prediction_data)\n",
    "print(prediction_data)\n",
    "print(scaled_prediction_data)"
   ]
  },
  {
   "cell_type": "markdown",
   "id": "079c6513",
   "metadata": {},
   "source": [
    "## KNN"
   ]
  },
  {
   "cell_type": "code",
   "execution_count": 50,
   "id": "87386e87",
   "metadata": {},
   "outputs": [
    {
     "data": {
      "text/plain": [
       "KNeighborsClassifier()"
      ]
     },
     "execution_count": 50,
     "metadata": {},
     "output_type": "execute_result"
    }
   ],
   "source": [
    "from sklearn.neighbors import KNeighborsClassifier\n",
    "knn = KNeighborsClassifier()\n",
    "knn.fit(X_train_scaled, y_train)"
   ]
  },
  {
   "cell_type": "code",
   "execution_count": 51,
   "id": "5310dbf1",
   "metadata": {},
   "outputs": [
    {
     "data": {
      "text/plain": [
       "KNeighborsClassifier(n_neighbors=6)"
      ]
     },
     "execution_count": 51,
     "metadata": {},
     "output_type": "execute_result"
    }
   ],
   "source": [
    "knn = KNeighborsClassifier(n_neighbors = 6)\n",
    "knn.fit(X_train_scaled, y_train)"
   ]
  },
  {
   "cell_type": "code",
   "execution_count": 31,
   "id": "e8bf715b",
   "metadata": {},
   "outputs": [],
   "source": [
    "from sklearn.metrics import classification_report\n",
    "knnPredictor = knn.predict(X_test_scaled)"
   ]
  },
  {
   "cell_type": "code",
   "execution_count": 52,
   "id": "8c980fed",
   "metadata": {},
   "outputs": [
    {
     "data": {
      "text/plain": [
       "array(['chickpea'], dtype=object)"
      ]
     },
     "execution_count": 52,
     "metadata": {},
     "output_type": "execute_result"
    }
   ],
   "source": [
    "knn.predict(scaled_prediction_data)"
   ]
  },
  {
   "cell_type": "markdown",
   "id": "97aa9225",
   "metadata": {},
   "source": [
    "# SVC"
   ]
  },
  {
   "cell_type": "code",
   "execution_count": 32,
   "id": "64a51a7e",
   "metadata": {},
   "outputs": [],
   "source": [
    "from sklearn.svm import SVC\n",
    "\n",
    "svc_linear = SVC(kernel='linear').fit(X_train_scaled, y_train)\n",
    "svc_rbf = SVC(kernel='rbf').fit(X_train_scaled, y_train)\n",
    "svc_poly = SVC(kernel='poly').fit(X_train_scaled, y_train)"
   ]
  },
  {
   "cell_type": "code",
   "execution_count": 70,
   "id": "89481ae8",
   "metadata": {},
   "outputs": [
    {
     "data": {
      "text/plain": [
       "array(['chickpea'], dtype=object)"
      ]
     },
     "execution_count": 70,
     "metadata": {},
     "output_type": "execute_result"
    }
   ],
   "source": [
    "svc_linear.predict(scaled_prediction_data)"
   ]
  },
  {
   "cell_type": "markdown",
   "id": "15d2bf7a",
   "metadata": {},
   "source": [
    "# Decision tree"
   ]
  },
  {
   "cell_type": "code",
   "execution_count": 71,
   "id": "593724b3",
   "metadata": {},
   "outputs": [],
   "source": [
    "from sklearn.tree import DecisionTreeClassifier\n",
    "\n",
    "dt = DecisionTreeClassifier(random_state=42).fit(X_train, y_train)"
   ]
  },
  {
   "cell_type": "code",
   "execution_count": 72,
   "id": "f3ec4108",
   "metadata": {},
   "outputs": [
    {
     "data": {
      "text/plain": [
       "array(['chickpea'], dtype=object)"
      ]
     },
     "execution_count": 72,
     "metadata": {},
     "output_type": "execute_result"
    }
   ],
   "source": [
    "dt.predict(prediction_data)"
   ]
  },
  {
   "cell_type": "markdown",
   "id": "b391cd9a",
   "metadata": {},
   "source": [
    "# Random forest"
   ]
  },
  {
   "cell_type": "code",
   "execution_count": 73,
   "id": "d5b68a75",
   "metadata": {},
   "outputs": [],
   "source": [
    "from sklearn.ensemble import RandomForestClassifier\n",
    "clf = RandomForestClassifier(max_depth=5, n_estimators=100, random_state=42).fit(X_train, y_train)\n"
   ]
  },
  {
   "cell_type": "code",
   "execution_count": 74,
   "id": "3b52b2f3",
   "metadata": {},
   "outputs": [
    {
     "data": {
      "text/plain": [
       "array(['chickpea'], dtype=object)"
      ]
     },
     "execution_count": 74,
     "metadata": {},
     "output_type": "execute_result"
    }
   ],
   "source": [
    "clf.predict(prediction_data)"
   ]
  },
  {
   "cell_type": "markdown",
   "id": "3a077691",
   "metadata": {},
   "source": [
    "# XGBoost"
   ]
  },
  {
   "cell_type": "code",
   "execution_count": 35,
   "id": "4de500d4",
   "metadata": {},
   "outputs": [],
   "source": [
    "from sklearn.ensemble import GradientBoostingClassifier\n",
    "gboost = GradientBoostingClassifier().fit(X_train, y_train)"
   ]
  },
  {
   "cell_type": "code",
   "execution_count": 62,
   "id": "1b53057e",
   "metadata": {},
   "outputs": [
    {
     "data": {
      "text/plain": [
       "array(['chickpea'], dtype=object)"
      ]
     },
     "execution_count": 62,
     "metadata": {},
     "output_type": "execute_result"
    }
   ],
   "source": [
    "gboost.predict(prediction_data)"
   ]
  },
  {
   "cell_type": "markdown",
   "id": "7439d13c",
   "metadata": {},
   "source": [
    "# Ensembling"
   ]
  },
  {
   "cell_type": "code",
   "execution_count": 75,
   "id": "e106b13e",
   "metadata": {},
   "outputs": [],
   "source": [
    "from sklearn.ensemble import VotingClassifier"
   ]
  },
  {
   "cell_type": "code",
   "execution_count": 76,
   "id": "26659584",
   "metadata": {},
   "outputs": [],
   "source": [
    "ensemble_classifier_h = VotingClassifier(estimators= [\n",
    "    ('knn', knn), \n",
    "    ('svc_linear', svc_linear), \n",
    "    ('svc_poly', svc_poly), \n",
    "    ('svc_rbf', svc_rbf), \n",
    "    ('dt', dt), \n",
    "    ('rf', clf), \n",
    "    ('xgboost', gboost)\n",
    "    ],\n",
    "    voting='hard')\n",
    "\n",
    "ensemble_classifier_h = ensemble_classifier_h.fit(X,y)"
   ]
  },
  {
   "cell_type": "code",
   "execution_count": 77,
   "id": "ea612da0",
   "metadata": {},
   "outputs": [
    {
     "data": {
      "text/plain": [
       "0.9945454545454545"
      ]
     },
     "execution_count": 77,
     "metadata": {},
     "output_type": "execute_result"
    }
   ],
   "source": [
    "ensemble_classifier_h.score(X, y)"
   ]
  },
  {
   "cell_type": "code",
   "execution_count": 78,
   "id": "f4eb789f",
   "metadata": {},
   "outputs": [
    {
     "data": {
      "text/plain": [
       "array(['chickpea'], dtype=object)"
      ]
     },
     "execution_count": 78,
     "metadata": {},
     "output_type": "execute_result"
    }
   ],
   "source": [
    "ensemble_classifier_h.predict(prediction_data)"
   ]
  },
  {
   "cell_type": "code",
   "execution_count": 79,
   "id": "67cae521",
   "metadata": {},
   "outputs": [],
   "source": [
    "def crop_prediction(x):\n",
    "    return ensemble_classifier_h.predict(x)"
   ]
  },
  {
   "cell_type": "code",
   "execution_count": 80,
   "id": "2e39ac1b",
   "metadata": {
    "scrolled": true
   },
   "outputs": [
    {
     "data": {
      "text/plain": [
       "array(['chickpea'], dtype=object)"
      ]
     },
     "execution_count": 80,
     "metadata": {},
     "output_type": "execute_result"
    }
   ],
   "source": [
    "crop_prediction(prediction_data)"
   ]
  },
  {
   "cell_type": "code",
   "execution_count": 82,
   "id": "19be6ccb",
   "metadata": {},
   "outputs": [],
   "source": [
    "pickle.dump(ensemble_classifier_h, open(\"model.pkl\", \"wb\"))"
   ]
  }
 ],
 "metadata": {
  "kernelspec": {
   "display_name": "Python 3 (ipykernel)",
   "language": "python",
   "name": "python3"
  },
  "language_info": {
   "codemirror_mode": {
    "name": "ipython",
    "version": 3
   },
   "file_extension": ".py",
   "mimetype": "text/x-python",
   "name": "python",
   "nbconvert_exporter": "python",
   "pygments_lexer": "ipython3",
   "version": "3.9.12"
  }
 },
 "nbformat": 4,
 "nbformat_minor": 5
}
